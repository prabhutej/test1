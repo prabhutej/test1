{
  "nbformat": 4,
  "nbformat_minor": 0,
  "metadata": {
    "colab": {
      "name": "Untitled5.ipynb",
      "provenance": [],
      "collapsed_sections": [],
      "authorship_tag": "ABX9TyM5PrXYd+hXzUwOk4VBdMfV",
      "include_colab_link": true
    },
    "kernelspec": {
      "name": "python3",
      "display_name": "Python 3"
    },
    "language_info": {
      "name": "python"
    }
  },
  "cells": [
    {
      "cell_type": "markdown",
      "metadata": {
        "id": "view-in-github",
        "colab_type": "text"
      },
      "source": [
        "<a href=\"https://colab.research.google.com/github/prabhutej/test1/blob/main/Untitled5.ipynb\" target=\"_parent\"><img src=\"https://colab.research.google.com/assets/colab-badge.svg\" alt=\"Open In Colab\"/></a>"
      ]
    },
    {
      "cell_type": "code",
      "metadata": {
        "id": "raI2_KtxF3an",
        "colab": {
          "base_uri": "https://localhost:8080/"
        },
        "outputId": "6c8c9652-e02f-4889-ca83-0e9f0886b1a6"
      },
      "source": [
        "# Out of 7 consonants how many words of 3 consonants can be formed? \n",
        "\n",
        "def fact(n):\n",
        "  if n==0:\n",
        "    return 1\n",
        "  else:\n",
        "    return n*fact(n-1)\n",
        "\n",
        "consonant = int(input(\"Enter the total number of consonants: \"))\n",
        "word = int(input(\"Enter the number of sonsonants allowed for each word: \"))\n",
        "\n",
        "combinations = fact(consonant) / (fact(word)*fact(consonant-word))\n",
        "print(\"The answer id: \", combinations)\n",
        "\n",
        "\n",
        "\n",
        "\n"
      ],
      "execution_count": null,
      "outputs": [
        {
          "output_type": "stream",
          "text": [
            "Enter the total number of consonants: 7\n",
            "Enter the number of sonsonants allowed for each word: 3\n",
            "The answer id:  35.0\n"
          ],
          "name": "stdout"
        }
      ]
    },
    {
      "cell_type": "code",
      "metadata": {
        "colab": {
          "base_uri": "https://localhost:8080/"
        },
        "id": "H2lF-1eTeOoy",
        "outputId": "428b160a-30e1-4cc3-9faa-58d3394df884"
      },
      "source": [
        "# out of 4 vowels how many words of 2 vowels can be formed?\n",
        "\n",
        "def fact(n):\n",
        "  if n==0:\n",
        "    return 1\n",
        "  else:\n",
        "    return n*fact(n-1)\n",
        "vowels = int(input(\"Enter no. of vowels: \"))\n",
        "word = int(input(\"Enter no. of words: \"))\n",
        "\n",
        "combination = fact(vowels) / (fact(word)*fact(vowels-word))\n",
        "print(\"The answer is: \", combination)\n",
        "\n",
        "\n",
        "\n"
      ],
      "execution_count": null,
      "outputs": [
        {
          "output_type": "stream",
          "text": [
            "Enter no. of vowels: 4\n",
            "Enter no. of words: 2\n",
            "The answer is:  6.0\n"
          ],
          "name": "stdout"
        }
      ]
    },
    {
      "cell_type": "code",
      "metadata": {
        "id": "D_JSw6ctfO8w",
        "colab": {
          "base_uri": "https://localhost:8080/"
        },
        "outputId": "934f5cef-755f-4360-a69c-339471b73c0b"
      },
      "source": [
        "# Out of 7 consonants and 4 vowels, how many words of 3 consonants and 2 vowels can be formed?\n",
        "\n",
        "def fact(n):\n",
        "  if n==0:\n",
        "    return 1\n",
        "  else:\n",
        "    return n*fact(n-1)\n",
        "consonants = int(input(\"Enter no, of consonants: \"))\n",
        "Cwords = int(input(\"Enter no. of words: \"))\n",
        "vowels = int(input(\"Enter no. of vowels: \"))\n",
        "Vwords = int(input(\"Enter no. of words: \"))\n",
        "combination = fact(consonants)/(fact(Cwords)*fact(consonants-Cwords))*fact(vowels)/(fact(Vwords)*fact(vowels-Vwords))\n",
        "print(\"Total no. of combinations is: \", combination)\n",
        "\n"
      ],
      "execution_count": null,
      "outputs": [
        {
          "output_type": "stream",
          "text": [
            "Enter no, of consonants: 7\n",
            "Enter no. of words: 3\n",
            "Enter no. of vowels: 4\n",
            "Enter no. of words: 2\n",
            "Total no. of combinations is:  210.0\n"
          ],
          "name": "stdout"
        }
      ]
    },
    {
      "cell_type": "code",
      "metadata": {
        "colab": {
          "base_uri": "https://localhost:8080/"
        },
        "id": "ol6HP4Y8FxA_",
        "outputId": "2190a759-ae3c-4f18-c8b8-1193b0ad5ff7"
      },
      "source": [
        "# Out of 7 consonants and 4 vowels, how many words of 3 consonants and 2 vowels can be formed? Using math library.\n",
        "\n",
        "import math\n",
        "\n",
        "consonants = int(input(\"Enter no, of consonants: \"))\n",
        "Cwords = int(input(\"Enter no. of words: \"))\n",
        "vowels = int(input(\"Enter no. of vowels: \"))\n",
        "Vwords = int(input(\"Enter no. of words: \"))\n",
        "\n",
        "combination = math.factorial(consonants)/(math.factorial(Cwords)*math.factorial(consonants-Cwords))*math.factorial(vowels)/(math.factorial(Vwords)*math.factorial(vowels-Vwords))\n",
        "\n",
        "print(\"Total combinations= \", combination)\n"
      ],
      "execution_count": null,
      "outputs": [
        {
          "output_type": "stream",
          "text": [
            "Enter no, of consonants: 7\n",
            "Enter no. of words: 3\n",
            "Enter no. of vowels: 4\n",
            "Enter no. of words: 2\n",
            "Total combinations=  210.0\n"
          ],
          "name": "stdout"
        }
      ]
    },
    {
      "cell_type": "code",
      "metadata": {
        "id": "Xrn6sw3zMhmO",
        "colab": {
          "base_uri": "https://localhost:8080/"
        },
        "outputId": "d6b87026-1354-4f8d-d6c3-edb0567391cc"
      },
      "source": [
        "A = {1,2,3,4,5}\n",
        "B = {5,6,7}\n",
        "\n",
        "print(2 in A)\n",
        "\n",
        "type(2 in A)"
      ],
      "execution_count": null,
      "outputs": [
        {
          "output_type": "stream",
          "name": "stdout",
          "text": [
            "True\n"
          ]
        },
        {
          "output_type": "execute_result",
          "data": {
            "text/plain": [
              "bool"
            ]
          },
          "metadata": {},
          "execution_count": 2
        }
      ]
    },
    {
      "cell_type": "code",
      "metadata": {
        "colab": {
          "base_uri": "https://localhost:8080/"
        },
        "id": "vZCVHx3UMvJX",
        "outputId": "69acb609-6c95-4752-ca68-8f9fa34cd2a4"
      },
      "source": [
        "A = {1,2,3,4,5}\n",
        "B = {5,6,7}\n",
        "\n",
        "B.issubset(A)"
      ],
      "execution_count": null,
      "outputs": [
        {
          "output_type": "execute_result",
          "data": {
            "text/plain": [
              "False"
            ]
          },
          "metadata": {},
          "execution_count": 3
        }
      ]
    },
    {
      "cell_type": "code",
      "metadata": {
        "colab": {
          "base_uri": "https://localhost:8080/"
        },
        "id": "_U6Nx6vxNUdu",
        "outputId": "75f765e2-2c7f-41a2-c87e-6845ebf938ad"
      },
      "source": [
        "def is_subset(A,B):\n",
        "   for  e in A:\n",
        "     if e in B:\n",
        "       pass\n",
        "     \n",
        "     else:\n",
        "     \n",
        "       return False\n",
        "   \n",
        "   \n",
        "   return True\n",
        "\n",
        "\n",
        "\n",
        "     \n",
        "A = {1,2,3,4,5}\n",
        "B = {5,6,7}\n",
        "\n",
        "sub = is_subset(A,B)\n",
        "\n",
        "print(sub)"
      ],
      "execution_count": null,
      "outputs": [
        {
          "output_type": "stream",
          "name": "stdout",
          "text": [
            "False\n"
          ]
        }
      ]
    },
    {
      "cell_type": "code",
      "metadata": {
        "colab": {
          "base_uri": "https://localhost:8080/"
        },
        "id": "TU7KXaaGQdh9",
        "outputId": "d85095e6-43f0-406a-ae2c-e33f476946d3"
      },
      "source": [
        "import numpy as np\n",
        "\n",
        "uni = set(np.arange(10))\n",
        "A = set(np.arange(0,9,2))\n",
        "B = set(np.arange(0,9,3))\n",
        "\n",
        "print(\"\\nUniversal Set: \",uni)\n",
        "print(\"\\nSet: \", A)\n",
        "print(\"\\nSet: \",B)\n",
        "\n",
        "A.union(B)\n"
      ],
      "execution_count": null,
      "outputs": [
        {
          "output_type": "stream",
          "name": "stdout",
          "text": [
            "\n",
            "Universal Set:  {0, 1, 2, 3, 4, 5, 6, 7, 8, 9}\n",
            "\n",
            "Set:  {0, 2, 4, 6, 8}\n",
            "\n",
            "Set:  {0, 3, 6}\n"
          ]
        },
        {
          "output_type": "execute_result",
          "data": {
            "text/plain": [
              "{0, 2, 3, 4, 6, 8}"
            ]
          },
          "metadata": {},
          "execution_count": 29
        }
      ]
    },
    {
      "cell_type": "code",
      "metadata": {
        "colab": {
          "base_uri": "https://localhost:8080/"
        },
        "id": "PmB9CXAlb7vq",
        "outputId": "caee7818-0efa-4627-d0fb-fc08fce87d99"
      },
      "source": [
        "import numpy as np\n",
        "\n",
        "uni = set(np.arange(10))\n",
        "A = set(np.arange(0,9,2))\n",
        "B = set(np.arange(0,9,3))\n",
        "\n",
        "print(\"\\nUniversal Set: \",uni)\n",
        "print(\"\\nSet: \", A)\n",
        "print(\"\\nSet: \",B)\n",
        "\n",
        "print(\"\\n A U B: \",A.union(B))\n",
        "print(\"\\nA n B: \",A.intersection(B))\n",
        "print(\"\\nA - B: \",A.difference(B))\n",
        "print(\"\\nA: \",uni.difference(A))\n",
        "print(\"\\nB: \",uni.difference(B))\n"
      ],
      "execution_count": null,
      "outputs": [
        {
          "output_type": "stream",
          "name": "stdout",
          "text": [
            "\n",
            "Universal Set:  {0, 1, 2, 3, 4, 5, 6, 7, 8, 9}\n",
            "\n",
            "Set:  {0, 2, 4, 6, 8}\n",
            "\n",
            "Set:  {0, 3, 6}\n",
            "\n",
            " A U B:  {0, 2, 3, 4, 6, 8}\n",
            "\n",
            "A n B:  {0, 6}\n",
            "\n",
            "A - B:  {8, 2, 4}\n",
            "\n",
            "A:  {1, 3, 5, 7, 9}\n",
            "\n",
            "B:  {1, 2, 4, 5, 7, 8, 9}\n"
          ]
        }
      ]
    },
    {
      "cell_type": "code",
      "metadata": {
        "id": "2X_GRleQg5__",
        "colab": {
          "base_uri": "https://localhost:8080/"
        },
        "outputId": "b91b051c-c542-4590-dfde-b7ec978712ee"
      },
      "source": [
        "# Implement De'Morgan theories to python\n",
        "\n",
        "import numpy as np\n",
        "\n",
        "uni = set(np.arange(10))\n",
        "A = set(np.arange(0,9,2))\n",
        "B = set(np.arange(0,9,3))\n",
        "P = A.union(B)\n",
        "Q = uni.difference(P)\n",
        "R = uni.difference(B)\n",
        "S = uni.difference(A)\n",
        "T = R.intersection(S)\n",
        "if Q==T:\n",
        "  print(\"True\")\n",
        "else:\n",
        "  print(\"False\")\n"
      ],
      "execution_count": null,
      "outputs": [
        {
          "output_type": "stream",
          "name": "stdout",
          "text": [
            "True\n"
          ]
        }
      ]
    },
    {
      "cell_type": "code",
      "metadata": {
        "colab": {
          "base_uri": "https://localhost:8080/"
        },
        "id": "FvCnsvkaLQB-",
        "outputId": "a8791308-e923-474b-f2a8-9e849edde2b1"
      },
      "source": [
        "# Determine the probability of getting a red heart from playing card set.\n",
        "\n",
        "def card_probability(fav,T_outcome):\n",
        "  prob = (fav/T_outcome)*100\n",
        "\n",
        "  return prob\n",
        "\n",
        "\n",
        "Red_heart = 13\n",
        "Sample_size = 52\n",
        "\n",
        "prob_Red_heart = card_probability(Red_heart,Sample_size)\n",
        "\n",
        "print(\"The answer is: \", prob_Red_heart)"
      ],
      "execution_count": null,
      "outputs": [
        {
          "output_type": "stream",
          "name": "stdout",
          "text": [
            "The answer is:  25.0\n"
          ]
        }
      ]
    },
    {
      "cell_type": "code",
      "metadata": {
        "colab": {
          "base_uri": "https://localhost:8080/"
        },
        "id": "P9YOZGPARJvD",
        "outputId": "e9089499-e935-4e34-e29b-21a26024bedc"
      },
      "source": [
        "# Determine the probability of getting a face card from playing card set.\n",
        "\n",
        "def card_probability(fav,T_outcome):\n",
        "  prob = (fav/T_outcome)*100\n",
        "\n",
        "  return prob\n",
        "\n",
        "\n",
        "Face_card = 12\n",
        "Sample_size = 52\n",
        "\n",
        "prob_Facecard = round(card_probability(Face_card,Sample_size),0)\n",
        "\n",
        "print(\"\\nThe answer is: \", prob_Facecard)"
      ],
      "execution_count": null,
      "outputs": [
        {
          "output_type": "stream",
          "name": "stdout",
          "text": [
            "\n",
            "The answer is:  23.0\n"
          ]
        }
      ]
    },
    {
      "cell_type": "code",
      "metadata": {
        "colab": {
          "base_uri": "https://localhost:8080/"
        },
        "id": "1iTapOkNSJjM",
        "outputId": "ac22bba8-cd59-4406-e3c5-9db3c690282e"
      },
      "source": [
        "def die_probability(fav,T_outcome):\n",
        "  prob = (fav/T_outcome)*100\n",
        "\n",
        "  return prob\n",
        "\n",
        "Odd_numbers = 3\n",
        "Nums_lessthan_4 = 3\n",
        "Total_outcomes = 6\n",
        "\n",
        "prob_oddnums = die_probability(Odd_numbers,Total_outcomes)\n",
        "prob_lessthan4 = die_probability(Nums_lessthan_4,Total_outcomes)\n",
        "\n",
        "print(\"For odd numbers: \",prob_oddnums)\n",
        "print(\"\\nFor numbers less than 4: \",prob_lessthan4)"
      ],
      "execution_count": null,
      "outputs": [
        {
          "output_type": "stream",
          "name": "stdout",
          "text": [
            "For odd numbers:  50.0\n",
            "\n",
            "For numbers less than 4:  50.0\n"
          ]
        }
      ]
    },
    {
      "cell_type": "code",
      "metadata": {
        "colab": {
          "base_uri": "https://localhost:8080/"
        },
        "id": "kE6o1x--XA5g",
        "outputId": "ca31d234-7600-4f40-c83a-a561b8cbbbf8"
      },
      "source": [
        "S = {1,2,3,4,5,6}\n",
        "A = {1,3,5}\n",
        "B = {1,2,3}\n",
        "\n",
        "prob = (len(A)+len(B)-len(A.intersection(B))/ len(S))\n",
        "\n",
        "print(\"Answer is: \",prob)"
      ],
      "execution_count": null,
      "outputs": [
        {
          "output_type": "stream",
          "name": "stdout",
          "text": [
            "Answer is:  5.666666666666667\n"
          ]
        }
      ]
    }
  ]
}